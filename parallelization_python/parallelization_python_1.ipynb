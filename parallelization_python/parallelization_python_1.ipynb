{
 "cells": [
  {
   "cell_type": "markdown",
   "metadata": {},
   "source": [
    "# Assignment Sheet Python\n",
    "## Submission deadline 1.6.2021 10:00 a.m."
   ]
  },
  {
   "cell_type": "markdown",
   "metadata": {},
   "source": [
    "### Exercise 1 - Numerical Integration (8 Points)\n",
    "\n",
    "Write a Python program that integrates the function\n",
    "\\begin{align}\n",
    "    f(x,y) = exp(-0.5(x^2+y^2))\n",
    "\\end{align}\n",
    "in the limits $x \\in [-1,1]$ and $y \\in [-1,1]$ numerically. To do so, draw a few million random\n",
    "numbers for each x, y, and z and store these random numbers in arrays. Count, how often\n",
    "the value of z is less than f(x,y). Choose an appropriate range for z. From the result, estimate\n",
    "the integral\n",
    "\\begin{align}\n",
    "    \\int_{-1}^1\\int_{-1}^1 f(x,y) dx dy\n",
    "\\end{align}"
   ]
  },
  {
   "cell_type": "code",
   "execution_count": null,
   "metadata": {},
   "outputs": [],
   "source": [
    "import math\n",
    "import time\n",
    "import numpy as np\n",
    "\n",
    "# number of samples\n",
    "N = 10000000\n",
    "\n",
    "x = np.random.rand(N) * 2 - 1\n",
    "y = np.random.rand(N) * 2 - 1\n",
    "z = np.random.rand(N)\n",
    "\n",
    "def integrate(x, y, z, target=None, tid=0):\n",
    "    results = np.exp(-0.5 * (x*x + y*y))\n",
    "    count = np.count_nonzero(z < results)\n",
    "    if target:\n",
    "        target[tid] = count\n",
    "    return count"
   ]
  },
  {
   "cell_type": "code",
   "execution_count": null,
   "metadata": {},
   "outputs": [],
   "source": [
    "# a pure python solution for speed comparison (result: about 10 times slower)\n",
    "def integrate_pure_python(x, y, z, target=None, tid=0):\n",
    "    count = 0\n",
    "    for i in range(len(x)):\n",
    "        if z[i] < math.exp(-0.5 * (x[i] * x[i] + y[i] * y[i])):\n",
    "            count += 1\n",
    "    if target:\n",
    "        target[tid] = count\n",
    "    return count"
   ]
  },
  {
   "cell_type": "markdown",
   "metadata": {},
   "source": [
    "#### a) How long does the integration take without running parallel?"
   ]
  },
  {
   "cell_type": "code",
   "execution_count": null,
   "metadata": {},
   "outputs": [],
   "source": [
    "start = time.perf_counter()\n",
    "count = integrate(x, y, z)\n",
    "end = time.perf_counter()\n",
    "\n",
    "print(f\"count: {count}, value of integral: {count / N * 4}\\nelapsed time: {end - start:.4f} seconds\")"
   ]
  },
  {
   "cell_type": "markdown",
   "metadata": {},
   "source": [
    "Your Answer Here:\n",
    "\n",
    "Without parallelization the integration took 0.1061 seconds (mean of 5 runs) for ten million points."
   ]
  },
  {
   "cell_type": "markdown",
   "metadata": {},
   "source": [
    "#### b) Rewrite your code using multi-threading. Create 10 threads, each thread processing a certain range of the created points."
   ]
  },
  {
   "cell_type": "code",
   "execution_count": null,
   "metadata": {},
   "outputs": [],
   "source": [
    "import threading\n",
    "\n",
    "# setup, note that this code assumes, that N is divisble by num_threads, which may not always be the case\n",
    "num_threads = 10\n",
    "threads = []\n",
    "results = [0] * num_threads\n",
    "batchsize = N // num_threads\n",
    "for i in range(num_threads):\n",
    "    start_index = i * batchsize\n",
    "    end_index = (i + 1) * batchsize # max batch index + 1, because used in slices\n",
    "    threads.append(threading.Thread(target=integrate, args=(x[start_index:end_index], y[start_index:end_index], z[start_index:end_index], results, i)))\n",
    "\n",
    "# execution\n",
    "start = time.perf_counter()\n",
    "for t in threads:\n",
    "    t.start()\n",
    "for t in threads:\n",
    "    t.join()\n",
    "end = time.perf_counter()\n",
    "print(f\"count: {sum(results)}\\nelapsed time: {end - start:.4f} seconds\")"
   ]
  },
  {
   "cell_type": "markdown",
   "metadata": {},
   "source": [
    "Your Answer Here:\n",
    "\n",
    "Parallelizing the code using 10 Threads, the run time dropped to 0.0485 seconds (mean of 5 runs, executed on 4 cores on https://jupyter-cloud.gwdg.de)"
   ]
  },
  {
   "cell_type": "markdown",
   "metadata": {},
   "source": [
    "#### c) Now, create a single thread for the evaluation of each random point. Compare the performance to the result from b)."
   ]
  },
  {
   "cell_type": "code",
   "execution_count": null,
   "metadata": {},
   "outputs": [],
   "source": [
    "# same code as b, except:\n",
    "num_threads = N\n",
    "# probably not \"optimal\" for this assignment, but I'm to lazy to invest more time in such an awful idea."
   ]
  },
  {
   "cell_type": "markdown",
   "metadata": {},
   "source": [
    "Your Answer here:\n",
    "\n",
    "With ten million points I interrupted the interpreter after two minutes or so. With `N = 1000` it took about 0.11 seconds, which was about 40 times the duration of b).\n",
    "\n",
    "Don't do this."
   ]
  },
  {
   "cell_type": "markdown",
   "metadata": {},
   "source": [
    "#### d) Rewrite your code using multi-processing. Create a pool and use the Pool.apply, Pool.map or Pool.starmap function. Compare the CPU occupancy for multi-processing and multithreading with a tool like top or htop. How many python processes are running in both cases? Which fraction of CPU time are the processes maximally occupying?"
   ]
  },
  {
   "cell_type": "code",
   "execution_count": null,
   "metadata": {},
   "outputs": [],
   "source": [
    "import multiprocessing as mp\n",
    "\n",
    "# setup\n",
    "pool_size = mp.cpu_count()\n",
    "pool = mp.Pool(pool_size)\n",
    "\n",
    "start = time.perf_counter()\n",
    "# could use np.array_split() if N % pool_size != 0\n",
    "result = pool.starmap(integrate, zip(np.split(x, pool_size), np.split(y, pool_size), np.split(z, pool_size)))\n",
    "end = time.perf_counter()\n",
    "print(f\"count: {sum(results)}\\nelapsed time: {end - start:.4f} seconds\")\n",
    "pool.close()"
   ]
  },
  {
   "cell_type": "markdown",
   "metadata": {},
   "source": [
    "Your Answer here:\n",
    "\n",
    "In this case the integration took 0.4497 seconds (again, mean of 5 runs). In the `multiprocessing` case, four python processes are running, but only one when using  the `threading` module.\n",
    "\n",
    "`top` didn't show very meaningful output for the CPUI utilization, because I couldn't get runtimes of more than 1 second for the theading example without crashing the kernel by exausting the available memory. I assume that by using almost only `numpy` functions, which are implemented in C and not Python, the GIL doesn't slow down the execution and the overhead of theads is low compared to full processes. When using the slow pure python implementation, `multiprocessing` is obviously much faster than `threading` (~ 3.7 s to ~ 20 s). With threads, it's even slower than without parallelization."
   ]
  },
  {
   "cell_type": "markdown",
   "metadata": {},
   "source": [
    "#### e) Change the previous program to use asynchronous execution of parallel processes. Compare the performance between synchronous and asynchronous execution."
   ]
  },
  {
   "cell_type": "code",
   "execution_count": null,
   "metadata": {},
   "outputs": [],
   "source": [
    "# setup\n",
    "pool_size = mp.cpu_count()\n",
    "pool = mp.Pool(pool_size)\n",
    "\n",
    "start = time.perf_counter()\n",
    "# could use np.array_split() if N % pool_size != 0\n",
    "result = pool.starmap_async(integrate, zip(np.split(x, pool_size), np.split(y, pool_size), np.split(z, pool_size)))\n",
    "result.wait()\n",
    "end = time.perf_counter()\n",
    "print(f\"count: {sum(results)}\\nelapsed time: {end - start:.4f} seconds\")\n",
    "pool.close()"
   ]
  },
  {
   "cell_type": "markdown",
   "metadata": {},
   "source": [
    "Your Answer Here:\n",
    "\n",
    "The average runtime of 5 runs was 0.5270 seconds in the asynchronous example, which is very similar to the synchronous one above (there was some overlap between the measured times for single runs)."
   ]
  }
 ],
 "metadata": {
  "kernelspec": {
   "display_name": "Python 3",
   "language": "python",
   "name": "python3"
  },
  "language_info": {
   "codemirror_mode": {
    "name": "ipython",
    "version": 3
   },
   "file_extension": ".py",
   "mimetype": "text/x-python",
   "name": "python",
   "nbconvert_exporter": "python",
   "pygments_lexer": "ipython3",
   "version": "3.8.8"
  }
 },
 "nbformat": 4,
 "nbformat_minor": 4
}
